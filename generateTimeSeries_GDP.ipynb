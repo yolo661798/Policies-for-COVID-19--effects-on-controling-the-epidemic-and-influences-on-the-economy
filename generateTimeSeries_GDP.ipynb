{
 "metadata": {
  "language_info": {
   "codemirror_mode": {
    "name": "ipython",
    "version": 3
   },
   "file_extension": ".py",
   "mimetype": "text/x-python",
   "name": "python",
   "nbconvert_exporter": "python",
   "pygments_lexer": "ipython3",
   "version": "3.7.0-final"
  },
  "orig_nbformat": 2,
  "kernelspec": {
   "name": "python370jvsc74a57bd08d529aeb84ac04254301609cb41cba510b875bab45e66fa46a9033f54c9dd674",
   "display_name": "Python 3.7.0 64-bit (conda)"
  }
 },
 "nbformat": 4,
 "nbformat_minor": 2,
 "cells": [
  {
   "cell_type": "code",
   "execution_count": 1,
   "metadata": {},
   "outputs": [
    {
     "output_type": "stream",
     "name": "stderr",
     "text": [
      "G:\\Anaconda3\\lib\\site-packages\\sklearn\\linear_model\\least_angle.py:35: DeprecationWarning: `np.float` is a deprecated alias for the builtin `float`. To silence this warning, use `float` by itself. Doing this will not modify any behavior and is safe. If you specifically wanted the numpy scalar type, use `np.float64` here.\nDeprecated in NumPy 1.20; for more details and guidance: https://numpy.org/devdocs/release/1.20.0-notes.html#deprecations\n  eps=np.finfo(np.float).eps,\nG:\\Anaconda3\\lib\\site-packages\\sklearn\\linear_model\\least_angle.py:597: DeprecationWarning: `np.float` is a deprecated alias for the builtin `float`. To silence this warning, use `float` by itself. Doing this will not modify any behavior and is safe. If you specifically wanted the numpy scalar type, use `np.float64` here.\nDeprecated in NumPy 1.20; for more details and guidance: https://numpy.org/devdocs/release/1.20.0-notes.html#deprecations\n  eps=np.finfo(np.float).eps, copy_X=True, fit_path=True,\nG:\\Anaconda3\\lib\\site-packages\\sklearn\\linear_model\\least_angle.py:836: DeprecationWarning: `np.float` is a deprecated alias for the builtin `float`. To silence this warning, use `float` by itself. Doing this will not modify any behavior and is safe. If you specifically wanted the numpy scalar type, use `np.float64` here.\nDeprecated in NumPy 1.20; for more details and guidance: https://numpy.org/devdocs/release/1.20.0-notes.html#deprecations\n  eps=np.finfo(np.float).eps, copy_X=True, fit_path=True,\nG:\\Anaconda3\\lib\\site-packages\\sklearn\\linear_model\\least_angle.py:862: DeprecationWarning: `np.float` is a deprecated alias for the builtin `float`. To silence this warning, use `float` by itself. Doing this will not modify any behavior and is safe. If you specifically wanted the numpy scalar type, use `np.float64` here.\nDeprecated in NumPy 1.20; for more details and guidance: https://numpy.org/devdocs/release/1.20.0-notes.html#deprecations\n  eps=np.finfo(np.float).eps, positive=False):\nG:\\Anaconda3\\lib\\site-packages\\sklearn\\linear_model\\least_angle.py:1074: DeprecationWarning: `np.float` is a deprecated alias for the builtin `float`. To silence this warning, use `float` by itself. Doing this will not modify any behavior and is safe. If you specifically wanted the numpy scalar type, use `np.float64` here.\nDeprecated in NumPy 1.20; for more details and guidance: https://numpy.org/devdocs/release/1.20.0-notes.html#deprecations\n  max_n_alphas=1000, n_jobs=1, eps=np.finfo(np.float).eps,\nG:\\Anaconda3\\lib\\site-packages\\sklearn\\linear_model\\least_angle.py:1306: DeprecationWarning: `np.float` is a deprecated alias for the builtin `float`. To silence this warning, use `float` by itself. Doing this will not modify any behavior and is safe. If you specifically wanted the numpy scalar type, use `np.float64` here.\nDeprecated in NumPy 1.20; for more details and guidance: https://numpy.org/devdocs/release/1.20.0-notes.html#deprecations\n  max_n_alphas=1000, n_jobs=1, eps=np.finfo(np.float).eps,\nG:\\Anaconda3\\lib\\site-packages\\sklearn\\linear_model\\least_angle.py:1442: DeprecationWarning: `np.float` is a deprecated alias for the builtin `float`. To silence this warning, use `float` by itself. Doing this will not modify any behavior and is safe. If you specifically wanted the numpy scalar type, use `np.float64` here.\nDeprecated in NumPy 1.20; for more details and guidance: https://numpy.org/devdocs/release/1.20.0-notes.html#deprecations\n  eps=np.finfo(np.float).eps, copy_X=True, positive=False):\nG:\\Anaconda3\\lib\\site-packages\\sklearn\\linear_model\\randomized_l1.py:152: DeprecationWarning: `np.float` is a deprecated alias for the builtin `float`. To silence this warning, use `float` by itself. Doing this will not modify any behavior and is safe. If you specifically wanted the numpy scalar type, use `np.float64` here.\nDeprecated in NumPy 1.20; for more details and guidance: https://numpy.org/devdocs/release/1.20.0-notes.html#deprecations\n  precompute=False, eps=np.finfo(np.float).eps,\nG:\\Anaconda3\\lib\\site-packages\\sklearn\\linear_model\\randomized_l1.py:318: DeprecationWarning: `np.float` is a deprecated alias for the builtin `float`. To silence this warning, use `float` by itself. Doing this will not modify any behavior and is safe. If you specifically wanted the numpy scalar type, use `np.float64` here.\nDeprecated in NumPy 1.20; for more details and guidance: https://numpy.org/devdocs/release/1.20.0-notes.html#deprecations\n  eps=np.finfo(np.float).eps, random_state=None,\nG:\\Anaconda3\\lib\\site-packages\\sklearn\\linear_model\\randomized_l1.py:575: DeprecationWarning: `np.float` is a deprecated alias for the builtin `float`. To silence this warning, use `float` by itself. Doing this will not modify any behavior and is safe. If you specifically wanted the numpy scalar type, use `np.float64` here.\nDeprecated in NumPy 1.20; for more details and guidance: https://numpy.org/devdocs/release/1.20.0-notes.html#deprecations\n  eps=4 * np.finfo(np.float).eps, n_jobs=1,\n"
     ]
    }
   ],
   "source": [
    "import numpy as np\n",
    "import pandas as pd\n",
    "import matplotlib.pyplot as plt\n",
    "import seaborn\n",
    "from sklearn import linear_model\n",
    "# from __future__ import division\n",
    "\n",
    "from scipy import stats\n",
    "from statsmodels.formula.api import ols\n",
    "from statsmodels.stats.anova import anova_lm\n",
    "from statsmodels.stats.multicomp import pairwise_tukeyhsd\n",
    "\n",
    "%matplotlib inline\n",
    "seaborn.set()\n",
    "plt.rcParams['font.sans-serif']=['SimHei']\n",
    "plt.rcParams['axes.unicode_minus'] = False"
   ]
  },
  {
   "cell_type": "code",
   "execution_count": 2,
   "metadata": {},
   "outputs": [],
   "source": [
    "# 导入政策详细信息\n",
    "f_policy = open(r'政策与GDP增长率.csv',encoding='utf-8')\n",
    "data_policy = pd.read_csv(f_policy)\n",
    "# 处理时间格式\n",
    "data_policy['Date'] = data_policy['Date'].astype(str)\n",
    "data_policy['Date'] = pd.to_datetime(data_policy['Date'])"
   ]
  },
  {
   "cell_type": "code",
   "execution_count": 3,
   "metadata": {},
   "outputs": [
    {
     "output_type": "execute_result",
     "data": {
      "text/plain": [
       "['C1',\n",
       " 'C2',\n",
       " 'C3',\n",
       " 'C4',\n",
       " 'C5',\n",
       " 'C6',\n",
       " 'C7',\n",
       " 'C8',\n",
       " 'E1',\n",
       " 'E2',\n",
       " 'H1',\n",
       " 'H2',\n",
       " 'H3',\n",
       " 'H6']"
      ]
     },
     "metadata": {},
     "execution_count": 3
    }
   ],
   "source": [
    "# 建立字典，对应政策代号及其中英文名\n",
    "dic_policyEng = dict()\n",
    "dic_policyChi = dict()\n",
    "\n",
    "# 封闭措施\n",
    "dic_policyEng['C1'] = 'School closing'\n",
    "dic_policyChi['C1'] = '关闭学校'\n",
    "dic_policyEng['C2'] = 'Workplace closing'\n",
    "dic_policyChi['C2'] = '关闭工作场所'\n",
    "dic_policyEng['C3'] = 'Cancel public events'\n",
    "dic_policyChi['C3'] = '取消公共活动'\n",
    "dic_policyEng['C4'] = 'Restrictions on gatherings'\n",
    "dic_policyChi['C4'] = '限制集会'\n",
    "dic_policyEng['C5'] = 'Close public transport'\n",
    "dic_policyChi['C5'] = '关闭公共交通'\n",
    "dic_policyEng['C6'] = 'Stay at home requirements'\n",
    "dic_policyChi['C6'] = '居家要求'\n",
    "dic_policyEng['C7'] = 'Restrictions on internal movement'\n",
    "dic_policyChi['C7'] = '国内移动限制'\n",
    "dic_policyEng['C8'] = 'International travel controls'\n",
    "dic_policyChi['C8'] = '国际旅行控制'\n",
    "\n",
    "# 经济政策\n",
    "dic_policyEng['E1'] = 'Income support'\n",
    "dic_policyChi['E1'] = '收入支持'\n",
    "dic_policyEng['E2'] = 'Debt/contract relief'\n",
    "dic_policyChi['E2'] = '债务/合同放宽'\n",
    "dic_policyEng['E3'] = 'Fiscal measures'\n",
    "dic_policyChi['E3'] = '财政措施'\n",
    "dic_policyEng['E4'] = 'International support'\n",
    "dic_policyChi['E4'] = '给予国际支持'\n",
    "\n",
    "# 卫生系统政策\n",
    "dic_policyEng['H1'] = 'Public information campaigns'\n",
    "dic_policyChi['H1'] = '公共信息宣传'\n",
    "dic_policyEng['H2'] = 'Testing policy'\n",
    "dic_policyChi['H2'] = '检测政策'\n",
    "dic_policyEng['H3'] = 'Contact tracing'\n",
    "dic_policyChi['H3'] = '接触者追踪'\n",
    "dic_policyEng['H4'] = 'Emergency investment in healthcare'\n",
    "dic_policyChi['H4'] = '医疗保健紧急投资'\n",
    "dic_policyEng['H5'] = 'Investment in vaccines'\n",
    "dic_policyChi['H5'] = '疫苗投资'\n",
    "dic_policyEng['H6'] = 'Facial Coverings'\n",
    "dic_policyChi['H6'] = '口罩政策'\n",
    "dic_policyEng['H7'] = 'Vaccination Policy'\n",
    "dic_policyChi['H7'] = '疫苗接种政策'\n",
    "\n",
    "ls_code = list(dic_policyEng.keys())\n",
    "for code in ['E3','E4','H4','H5','H7']:\n",
    "    ls_code.remove(code)\n",
    "ls_code"
   ]
  },
  {
   "source": [
    "def get1stDate(code,condition):\n",
    "    # 获取第一天的索引\n",
    "    timedelta1 = pd.to_timedelta('7D')\n",
    "    timedelta2 = pd.to_timedelta('27D')\n",
    "    startDate = pd.to_datetime('2020-01-22')\n",
    "    endDate = pd.to_datetime('2020-12-27')\n",
    "    if condition in ['Introduce','Lift']:\n",
    "        subdata = data_policy[data_policy[code+condition]==1]\n",
    "    else:\n",
    "        subdata = data_policy[data_policy[code+'_4W']==0]\n",
    "    # 时间范围\n",
    "    subdata = subdata[(subdata['Date']- startDate >= timedelta1)&(endDate - subdata['Date'] >= timedelta2)]\n",
    "    \n",
    "    # subdata = subdata[subdata['R0']!=0]\n",
    "    index_W1 = subdata.index\n",
    "\n",
    "    # 构造各政策所需的数据集\n",
    "    data_code = pd.DataFrame()\n",
    "    # 国家名和第一天日期\n",
    "    data_code['CountryName'] = data_policy['CountryName'].loc[index_W1]\n",
    "    data_code['DateW1'] = data_policy['Date'].loc[index_W1]\n",
    "    data_code = data_code.reset_index(drop=True)\n",
    "    # “第0天”的GDP同比增长率\n",
    "    ls_W0_GDP = []\n",
    "    for index in list(index_W1):\n",
    "        ls_W0_GDP.append(data_policy['GDP_Growth'].loc[index-1])\n",
    "    Series_W0_GDP = pd.Series(ls_W0_GDP)\n",
    "\n",
    "    data_code['W0_GDP_Growth'] = Series_W0_GDP\n",
    "    # 第1到第4周的GDP_Growth和delta_GDP_Growth\n",
    "    for i in range(4):\n",
    "        index = index_W1 + i\n",
    "        Series_Wi_GDP = data_policy['GDP_Growth'].loc[index]\n",
    "        Series_Wi_GDP = Series_Wi_GDP.reset_index(drop=True)\n",
    "        data_code['W{}_GDP_Growth'.format(i+1)] = Series_Wi_GDP\n",
    "        data_code['W{}_delta_GDP_Growth'.format(i+1)] = data_code['W{}_GDP_Growth'.format(i+1)] - data_code['W0_GDP_Growth']\n",
    "\n",
    "    data_code.to_csv(code+'\\\\'+code+'_'+condition+'.csv',index=False,sep=',',encoding=\"utf_8_sig\")\n",
    "    return data_code"
   ],
   "cell_type": "code",
   "metadata": {},
   "execution_count": 4,
   "outputs": []
  },
  {
   "source": [
    "for code in ls_code:\n",
    "    for condition in ['Introduce','Lift','NoSuchPolicy']:\n",
    "        get1stDate(code,condition)"
   ],
   "cell_type": "code",
   "metadata": {
    "tags": []
   },
   "execution_count": 5,
   "outputs": []
  },
  {
   "source": [
    "for i in range(8):\n",
    "    string1 = 'C{}\\\\C{}_Introduce.csv'.format(i+1,i+1)\n",
    "    string2 = 'C{}\\\\C{}_Lift.csv'.format(i+1,i+1)\n",
    "    string3 = 'C{}\\\\C{}_NoSuchPolicy.csv'.format(i+1,i+1)\n",
    "    f_intro = open(string1,encoding='utf-8')\n",
    "    data_intro = pd.read_csv(f_intro)\n",
    "    f_lift = open(string2,encoding='utf-8')\n",
    "    data_lift = pd.read_csv(f_lift)\n",
    "    f_nop = open(string3,encoding='utf-8')\n",
    "    data_nop = pd.read_csv(f_nop)\n",
    "    print(i+1)\n",
    "    print(data_intro['day28_R0_Ratio'].mean())\n",
    "    print(data_nop['day28_R0_Ratio'].mean())\n",
    "    print(data_lift['day28_R0_Ratio'].mean())"
   ],
   "cell_type": "markdown",
   "metadata": {}
  },
  {
   "source": [
    "data1 = pd.DataFrame([[1]],columns=['A'])\n",
    "data2 = pd.DataFrame([[2]],columns=['B'])\n",
    "data3 = data1.join(data2)"
   ],
   "cell_type": "markdown",
   "metadata": {}
  },
  {
   "cell_type": "code",
   "execution_count": null,
   "metadata": {},
   "outputs": [],
   "source": []
  }
 ]
}