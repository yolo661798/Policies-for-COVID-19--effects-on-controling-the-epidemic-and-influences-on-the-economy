{
 "metadata": {
  "language_info": {
   "codemirror_mode": {
    "name": "ipython",
    "version": 3
   },
   "file_extension": ".py",
   "mimetype": "text/x-python",
   "name": "python",
   "nbconvert_exporter": "python",
   "pygments_lexer": "ipython3",
   "version": "3.7.0-final"
  },
  "orig_nbformat": 2,
  "kernelspec": {
   "name": "python370jvsc74a57bd08d529aeb84ac04254301609cb41cba510b875bab45e66fa46a9033f54c9dd674",
   "display_name": "Python 3.7.0 64-bit (conda)"
  }
 },
 "nbformat": 4,
 "nbformat_minor": 2,
 "cells": [
  {
   "cell_type": "code",
   "execution_count": 1,
   "metadata": {},
   "outputs": [
    {
     "output_type": "stream",
     "name": "stderr",
     "text": [
      "G:\\Anaconda3\\lib\\site-packages\\sklearn\\linear_model\\least_angle.py:35: DeprecationWarning: `np.float` is a deprecated alias for the builtin `float`. To silence this warning, use `float` by itself. Doing this will not modify any behavior and is safe. If you specifically wanted the numpy scalar type, use `np.float64` here.\nDeprecated in NumPy 1.20; for more details and guidance: https://numpy.org/devdocs/release/1.20.0-notes.html#deprecations\n  eps=np.finfo(np.float).eps,\nG:\\Anaconda3\\lib\\site-packages\\sklearn\\linear_model\\least_angle.py:597: DeprecationWarning: `np.float` is a deprecated alias for the builtin `float`. To silence this warning, use `float` by itself. Doing this will not modify any behavior and is safe. If you specifically wanted the numpy scalar type, use `np.float64` here.\nDeprecated in NumPy 1.20; for more details and guidance: https://numpy.org/devdocs/release/1.20.0-notes.html#deprecations\n  eps=np.finfo(np.float).eps, copy_X=True, fit_path=True,\nG:\\Anaconda3\\lib\\site-packages\\sklearn\\linear_model\\least_angle.py:836: DeprecationWarning: `np.float` is a deprecated alias for the builtin `float`. To silence this warning, use `float` by itself. Doing this will not modify any behavior and is safe. If you specifically wanted the numpy scalar type, use `np.float64` here.\nDeprecated in NumPy 1.20; for more details and guidance: https://numpy.org/devdocs/release/1.20.0-notes.html#deprecations\n  eps=np.finfo(np.float).eps, copy_X=True, fit_path=True,\nG:\\Anaconda3\\lib\\site-packages\\sklearn\\linear_model\\least_angle.py:862: DeprecationWarning: `np.float` is a deprecated alias for the builtin `float`. To silence this warning, use `float` by itself. Doing this will not modify any behavior and is safe. If you specifically wanted the numpy scalar type, use `np.float64` here.\nDeprecated in NumPy 1.20; for more details and guidance: https://numpy.org/devdocs/release/1.20.0-notes.html#deprecations\n  eps=np.finfo(np.float).eps, positive=False):\nG:\\Anaconda3\\lib\\site-packages\\sklearn\\linear_model\\least_angle.py:1074: DeprecationWarning: `np.float` is a deprecated alias for the builtin `float`. To silence this warning, use `float` by itself. Doing this will not modify any behavior and is safe. If you specifically wanted the numpy scalar type, use `np.float64` here.\nDeprecated in NumPy 1.20; for more details and guidance: https://numpy.org/devdocs/release/1.20.0-notes.html#deprecations\n  max_n_alphas=1000, n_jobs=1, eps=np.finfo(np.float).eps,\nG:\\Anaconda3\\lib\\site-packages\\sklearn\\linear_model\\least_angle.py:1306: DeprecationWarning: `np.float` is a deprecated alias for the builtin `float`. To silence this warning, use `float` by itself. Doing this will not modify any behavior and is safe. If you specifically wanted the numpy scalar type, use `np.float64` here.\nDeprecated in NumPy 1.20; for more details and guidance: https://numpy.org/devdocs/release/1.20.0-notes.html#deprecations\n  max_n_alphas=1000, n_jobs=1, eps=np.finfo(np.float).eps,\nG:\\Anaconda3\\lib\\site-packages\\sklearn\\linear_model\\least_angle.py:1442: DeprecationWarning: `np.float` is a deprecated alias for the builtin `float`. To silence this warning, use `float` by itself. Doing this will not modify any behavior and is safe. If you specifically wanted the numpy scalar type, use `np.float64` here.\nDeprecated in NumPy 1.20; for more details and guidance: https://numpy.org/devdocs/release/1.20.0-notes.html#deprecations\n  eps=np.finfo(np.float).eps, copy_X=True, positive=False):\nG:\\Anaconda3\\lib\\site-packages\\sklearn\\linear_model\\randomized_l1.py:152: DeprecationWarning: `np.float` is a deprecated alias for the builtin `float`. To silence this warning, use `float` by itself. Doing this will not modify any behavior and is safe. If you specifically wanted the numpy scalar type, use `np.float64` here.\nDeprecated in NumPy 1.20; for more details and guidance: https://numpy.org/devdocs/release/1.20.0-notes.html#deprecations\n  precompute=False, eps=np.finfo(np.float).eps,\nG:\\Anaconda3\\lib\\site-packages\\sklearn\\linear_model\\randomized_l1.py:318: DeprecationWarning: `np.float` is a deprecated alias for the builtin `float`. To silence this warning, use `float` by itself. Doing this will not modify any behavior and is safe. If you specifically wanted the numpy scalar type, use `np.float64` here.\nDeprecated in NumPy 1.20; for more details and guidance: https://numpy.org/devdocs/release/1.20.0-notes.html#deprecations\n  eps=np.finfo(np.float).eps, random_state=None,\nG:\\Anaconda3\\lib\\site-packages\\sklearn\\linear_model\\randomized_l1.py:575: DeprecationWarning: `np.float` is a deprecated alias for the builtin `float`. To silence this warning, use `float` by itself. Doing this will not modify any behavior and is safe. If you specifically wanted the numpy scalar type, use `np.float64` here.\nDeprecated in NumPy 1.20; for more details and guidance: https://numpy.org/devdocs/release/1.20.0-notes.html#deprecations\n  eps=4 * np.finfo(np.float).eps, n_jobs=1,\n"
     ]
    }
   ],
   "source": [
    "import numpy as np\n",
    "import pandas as pd\n",
    "import matplotlib.pyplot as plt\n",
    "import seaborn\n",
    "from sklearn import linear_model\n",
    "# from __future__ import division\n",
    "\n",
    "from scipy import stats\n",
    "from statsmodels.formula.api import ols\n",
    "from statsmodels.stats.anova import anova_lm\n",
    "from statsmodels.stats.multicomp import pairwise_tukeyhsd\n",
    "\n",
    "%matplotlib inline\n",
    "seaborn.set()\n",
    "plt.rcParams['font.sans-serif']=['SimHei']\n",
    "plt.rcParams['axes.unicode_minus'] = False"
   ]
  },
  {
   "cell_type": "code",
   "execution_count": 2,
   "metadata": {},
   "outputs": [],
   "source": [
    "# 确诊数据导入和初步处理\n",
    "f_confirm = open(r'各国R0.csv',encoding = \"utf-8\")\n",
    "data_confirm = pd.read_csv(f_confirm)\n",
    "# 处理时间格式\n",
    "data_confirm['时间'] = pd.to_datetime(data_confirm['时间'])"
   ]
  },
  {
   "cell_type": "code",
   "execution_count": 3,
   "metadata": {},
   "outputs": [],
   "source": [
    "# 导入政策详细信息\n",
    "f_policy = open(r'政策详细信息_new.csv',encoding='utf-8')\n",
    "data_policy = pd.read_csv(f_policy)\n",
    "# 处理时间格式\n",
    "data_policy['Date'] = data_policy['Date'].astype(str)\n",
    "data_policy['Date'] = pd.to_datetime(data_policy['Date'])"
   ]
  },
  {
   "cell_type": "code",
   "execution_count": 4,
   "metadata": {},
   "outputs": [
    {
     "output_type": "execute_result",
     "data": {
      "text/plain": [
       "['C1',\n",
       " 'C2',\n",
       " 'C3',\n",
       " 'C4',\n",
       " 'C5',\n",
       " 'C6',\n",
       " 'C7',\n",
       " 'C8',\n",
       " 'E1',\n",
       " 'E2',\n",
       " 'H1',\n",
       " 'H2',\n",
       " 'H3',\n",
       " 'H6']"
      ]
     },
     "metadata": {},
     "execution_count": 4
    }
   ],
   "source": [
    "# 建立字典，对应政策代号及其中英文名\n",
    "dic_policyEng = dict()\n",
    "dic_policyChi = dict()\n",
    "\n",
    "# 封闭措施\n",
    "dic_policyEng['C1'] = 'School closing'\n",
    "dic_policyChi['C1'] = '关闭学校'\n",
    "dic_policyEng['C2'] = 'Workplace closing'\n",
    "dic_policyChi['C2'] = '关闭工作场所'\n",
    "dic_policyEng['C3'] = 'Cancel public events'\n",
    "dic_policyChi['C3'] = '取消公共活动'\n",
    "dic_policyEng['C4'] = 'Restrictions on gatherings'\n",
    "dic_policyChi['C4'] = '限制集会'\n",
    "dic_policyEng['C5'] = 'Close public transport'\n",
    "dic_policyChi['C5'] = '关闭公共交通'\n",
    "dic_policyEng['C6'] = 'Stay at home requirements'\n",
    "dic_policyChi['C6'] = '居家要求'\n",
    "dic_policyEng['C7'] = 'Restrictions on internal movement'\n",
    "dic_policyChi['C7'] = '国内移动限制'\n",
    "dic_policyEng['C8'] = 'International travel controls'\n",
    "dic_policyChi['C8'] = '国际旅行控制'\n",
    "\n",
    "# 经济政策\n",
    "dic_policyEng['E1'] = 'Income support'\n",
    "dic_policyChi['E1'] = '收入支持'\n",
    "dic_policyEng['E2'] = 'Debt/contract relief'\n",
    "dic_policyChi['E2'] = '债务/合同放宽'\n",
    "dic_policyEng['E3'] = 'Fiscal measures'\n",
    "dic_policyChi['E3'] = '财政措施'\n",
    "dic_policyEng['E4'] = 'International support'\n",
    "dic_policyChi['E4'] = '给予国际支持'\n",
    "\n",
    "# 卫生系统政策\n",
    "dic_policyEng['H1'] = 'Public information campaigns'\n",
    "dic_policyChi['H1'] = '公共信息宣传'\n",
    "dic_policyEng['H2'] = 'Testing policy'\n",
    "dic_policyChi['H2'] = '检测政策'\n",
    "dic_policyEng['H3'] = 'Contact tracing'\n",
    "dic_policyChi['H3'] = '接触者追踪'\n",
    "dic_policyEng['H4'] = 'Emergency investment in healthcare'\n",
    "dic_policyChi['H4'] = '医疗保健紧急投资'\n",
    "dic_policyEng['H5'] = 'Investment in vaccines'\n",
    "dic_policyChi['H5'] = '疫苗投资'\n",
    "dic_policyEng['H6'] = 'Facial Coverings'\n",
    "dic_policyChi['H6'] = '口罩政策'\n",
    "dic_policyEng['H7'] = 'Vaccination Policy'\n",
    "dic_policyChi['H7'] = '疫苗接种政策'\n",
    "\n",
    "ls_code = list(dic_policyEng.keys())\n",
    "for code in ['E3','E4','H4','H5','H7']:\n",
    "    ls_code.remove(code)\n",
    "ls_code"
   ]
  },
  {
   "cell_type": "code",
   "execution_count": 5,
   "metadata": {},
   "outputs": [],
   "source": [
    "# 取政策引入的第一天和政策放宽的第一天\n",
    "def get1stDate(code,condition):\n",
    "    # 获取第一天的索引\n",
    "    timedelta1 = pd.to_timedelta('7D')\n",
    "    timedelta2 = pd.to_timedelta('27D')\n",
    "    startDate = pd.to_datetime('2020-01-22')\n",
    "    endDate = pd.to_datetime('2020-12-31')\n",
    "    if condition in ['Introduce','Lift']:\n",
    "        subdata = data_policy[data_policy[code+condition]==1]\n",
    "    else:\n",
    "        subdata = data_policy[data_policy[code+'28']==0]\n",
    "    subdata = subdata[(subdata['Date']- startDate >= timedelta1)&(endDate - subdata['Date'] >= timedelta2)]\n",
    "    \n",
    "    subdata = subdata[subdata['R0']!=0]\n",
    "    index_day1 = subdata.index\n",
    "\n",
    "    # 构造各政策所需的数据集\n",
    "    data_code = pd.DataFrame()\n",
    "    # 国家名和第一天日期\n",
    "    data_code['CountryName'] = data_policy['CountryName'].loc[index_day1]\n",
    "    data_code['DateDay1'] = data_policy['Date'].loc[index_day1]\n",
    "    data_code = data_code.reset_index(drop=True)\n",
    "    # “第0天”的R0\n",
    "    ls_day0_R0 = []\n",
    "    for index in list(index_day1):\n",
    "        ls_day0_R0.append(data_policy['R0'].loc[index-7:index].mean())\n",
    "    Series_day0_R0 = pd.Series(ls_day0_R0)\n",
    "    array_day0_R0 = np.array(Series_day0_R0)\n",
    "    data_code['day0_R0'] = Series_day0_R0\n",
    "    # 第1到第28天的R0和R0_Ratio\n",
    "    for i in range(28):\n",
    "        index = index_day1 + i\n",
    "        Series_dayi_R0 = data_policy['R0'].loc[index]\n",
    "        Series_dayi_R0 = Series_dayi_R0.reset_index(drop=True)\n",
    "        data_code['day{}_R0'.format(i+1)] = Series_dayi_R0\n",
    "\n",
    "    # 去除R0值过大的行\n",
    "    for i in range(29):\n",
    "        data_code = data_code[(data_code['day{}_R0'.format(i)]>0.85)&(data_code['day{}_R0'.format(i)]<=2)]\n",
    "    '''data_code = data_code[data_code['day0_R0']>0.85]\n",
    "    data_code = data_code.reset_index(drop=True)\n",
    "    subdata1 = data_code.iloc[:,:2]\n",
    "    subdata2 = data_code.iloc[:,2:]\n",
    "    # print(((subdata2<=2)&(subdata2>=-2)).any(axis=1))\n",
    "    subdata2 = subdata2.loc[(abs(subdata2)<=2).any(axis=1),:]\n",
    "    # subdata2 = subdata2.loc[((subdata2<=2)&(subdata2>=-2)).any(axis=1),:]\n",
    "    # subdata2 = subdata2.loc[(subdata2>=-2).any(axis=1),:]\n",
    "    subindex = subdata2.index\n",
    "    subdata1 = subdata1.loc[subindex]\n",
    "    data_code = subdata1.join(subdata2)\n",
    "    data_code = data_code.reset_index(drop=True)'''\n",
    "\n",
    "    # 累乘R0查看累积效应\n",
    "    for i in range(28):\n",
    "        data_code['day{}_R0_Ratio'.format(i+1)] = data_code['day{}_R0'.format(i+1)]/data_code['day0_R0']\n",
    "        if i == 0:\n",
    "            data_code['day{}_TimesR0'.format(i+1)] = data_code['day{}_R0_Ratio'.format(i+1)]\n",
    "        else:\n",
    "            data_code['day{}_TimesR0'.format(i+1)] = data_code['day{}_R0_Ratio'.format(i+1)] * data_code['day{}_TimesR0'.format(i)]\n",
    "\n",
    "        '''array_dayi_R0 = np.array(Series_dayi_R0)\n",
    "        array_dayi_R0Ratio = (array_dayi_R0/(1+array_day0_R0))-0.5\n",
    "        Series_day_R0Ratio = pd.DataFrame(array_dayi_R0Ratio)\n",
    "        data_code['day{}_R0Ratio'.format(i+1)] = Series_day_R0Ratio'''\n",
    "\n",
    "        '''if Series_day_R0Ratio[np.isinf(Series_day_R0Ratio)].dropna(how='any').shape[0] != 0:\n",
    "            print(code,condition,'day')'''\n",
    "        #print(code,condition,'day',i+1,Series_day_R0Ratio.max(),Series_day_R0Ratio.min())\n",
    "    # print(code,' ',condition,data_code.shape[0])\n",
    "    data_code.to_csv(code+'\\\\'+code+'_'+condition+'.csv',index=False,sep=',',encoding=\"utf_8_sig\")\n",
    "    return data_code"
   ]
  },
  {
   "cell_type": "code",
   "execution_count": 6,
   "metadata": {
    "tags": []
   },
   "outputs": [],
   "source": [
    "for code in ls_code:\n",
    "    for condition in ['Introduce','Lift','NoSuchPolicy']:\n",
    "        get1stDate(code,condition)"
   ]
  },
  {
   "cell_type": "code",
   "execution_count": 7,
   "metadata": {},
   "outputs": [
    {
     "output_type": "stream",
     "name": "stdout",
     "text": [
      "1\n",
      "0.8795630533433192\n",
      "1.009274389963771\n",
      "1.0049703746434073\n",
      "2\n",
      "0.8745833997043975\n",
      "1.007757942081302\n",
      "1.0018902380237649\n",
      "3\n",
      "0.901161379020775\n",
      "1.0159839565472149\n",
      "1.0081453798981233\n",
      "4\n",
      "0.9197271343518071\n",
      "0.997858890120767\n",
      "1.0059801857397843\n",
      "5\n",
      "0.8952445562246891\n",
      "0.9921479275844194\n",
      "0.9920468560758987\n",
      "6\n",
      "0.8963614619719572\n",
      "1.0009570764172289\n",
      "0.9880184615730833\n",
      "7\n",
      "0.8982875743118162\n",
      "1.0037996473959963\n",
      "0.9943474120109663\n",
      "8\n",
      "0.9318181583883598\n",
      "1.005463923021254\n",
      "1.0045580741332425\n"
     ]
    }
   ],
   "source": [
    "for i in range(8):\n",
    "    string1 = 'C{}\\\\C{}_Introduce.csv'.format(i+1,i+1)\n",
    "    string2 = 'C{}\\\\C{}_Lift.csv'.format(i+1,i+1)\n",
    "    string3 = 'C{}\\\\C{}_NoSuchPolicy.csv'.format(i+1,i+1)\n",
    "    f_intro = open(string1,encoding='utf-8')\n",
    "    data_intro = pd.read_csv(f_intro)\n",
    "    f_lift = open(string2,encoding='utf-8')\n",
    "    data_lift = pd.read_csv(f_lift)\n",
    "    f_nop = open(string3,encoding='utf-8')\n",
    "    data_nop = pd.read_csv(f_nop)\n",
    "    print(i+1)\n",
    "    print(data_intro['day28_R0_Ratio'].mean())\n",
    "    print(data_nop['day28_R0_Ratio'].mean())\n",
    "    print(data_lift['day28_R0_Ratio'].mean())"
   ]
  },
  {
   "cell_type": "code",
   "execution_count": 8,
   "metadata": {},
   "outputs": [],
   "source": [
    "data1 = pd.DataFrame([[1]],columns=['A'])\n",
    "data2 = pd.DataFrame([[2]],columns=['B'])\n",
    "data3 = data1.join(data2)"
   ]
  },
  {
   "cell_type": "code",
   "execution_count": null,
   "metadata": {},
   "outputs": [],
   "source": []
  }
 ]
}